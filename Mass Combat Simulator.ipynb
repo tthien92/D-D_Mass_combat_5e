{
 "cells": [
  {
   "cell_type": "markdown",
   "metadata": {},
   "source": [
    "## Functions\n",
    " - Attack\n",
    " - Defend/Dodge\n",
    " - Multiplier/Scaler for spells\n",
    "\n",
    "## Classes\n",
    "- Soldier\n",
    "- Commander\n",
    "- General\n",
    "\n",
    "\n",
    "## Mechanics\n",
    " - Morale\n",
    " - Soldier rank-up\n",
    " - Movement (eventually)\n",
    " - 3+ parties (eventually)"
   ]
  },
  {
   "cell_type": "code",
   "execution_count": 1,
   "metadata": {},
   "outputs": [],
   "source": [
    "import numpy as np"
   ]
  },
  {
   "cell_type": "code",
   "execution_count": 122,
   "metadata": {},
   "outputs": [],
   "source": [
    "class Soldier:\n",
    "    def __init__(self, AC, HP, atk = 1, dice = 6, to_hit = 2, dmg_bonus = 0, death = False):\n",
    "        self.AC = AC\n",
    "        self.HP = HP\n",
    "        self.atk = atk\n",
    "        self.dice = dice\n",
    "        self.to_hit = to_hit\n",
    "        self.dmg_bonus = dmg_bonus\n",
    "        self.death = death\n",
    "\n",
    "        \n",
    "    def attack(self, advantage = False, disadvantage = False):\n",
    "        if advantage is True:\n",
    "            return (np.random.randint(low = 1, high = 20, size = 2).max())+self.to_hit\n",
    "        if disadvantage is True:\n",
    "            return (np.random.randint(low = 1, high = 20, size = 2).min())+self.to_hit\n",
    "        else:\n",
    "            return (np.random.randint(low = 1, high = 20)) + self.to_hit\n",
    "    \n",
    "    def death(self, HP):\n",
    "        if self.HP <= 0:\n",
    "            self.HP = 0\n",
    "            self.death = True\n",
    "        else:\n",
    "            self.death = False\n",
    "    \n",
    "    def deal_dmg(self):\n",
    "        return (np.random.randint(low = 1, high = self.dice)) + self.dmg_bonus\n",
    "\n",
    "    def take_dmg(self, damage):\n",
    "        self.damage = damage\n",
    "        self.HP = self.HP - self.damage\n",
    "        death\n",
    "        return self.HP \n",
    "    \n"
   ]
  },
  {
   "cell_type": "code",
   "execution_count": 113,
   "metadata": {},
   "outputs": [],
   "source": [
    "soldier1 = Soldier(12, 20)\n",
    "soldier2 = Soldier(12, 20)"
   ]
  },
  {
   "cell_type": "code",
   "execution_count": 114,
   "metadata": {},
   "outputs": [],
   "source": [
    "def combat(s1, s2):\n",
    "    if s1.attack()> s2.AC:\n",
    "        s2.take_dmg(s1.deal_dmg())\n",
    "    else:\n",
    "        pass\n"
   ]
  },
  {
   "cell_type": "code",
   "execution_count": 133,
   "metadata": {},
   "outputs": [
    {
     "data": {
      "text/plain": [
       "-5"
      ]
     },
     "execution_count": 133,
     "metadata": {},
     "output_type": "execute_result"
    }
   ],
   "source": [
    "combat(soldier1, soldier2)\n",
    "soldier2.HP"
   ]
  },
  {
   "cell_type": "code",
   "execution_count": null,
   "metadata": {},
   "outputs": [],
   "source": []
  },
  {
   "cell_type": "code",
   "execution_count": null,
   "metadata": {},
   "outputs": [],
   "source": []
  },
  {
   "cell_type": "code",
   "execution_count": null,
   "metadata": {},
   "outputs": [],
   "source": []
  },
  {
   "cell_type": "code",
   "execution_count": null,
   "metadata": {},
   "outputs": [],
   "source": []
  },
  {
   "cell_type": "code",
   "execution_count": null,
   "metadata": {},
   "outputs": [],
   "source": []
  },
  {
   "cell_type": "code",
   "execution_count": null,
   "metadata": {},
   "outputs": [],
   "source": []
  },
  {
   "cell_type": "code",
   "execution_count": null,
   "metadata": {},
   "outputs": [],
   "source": []
  }
 ],
 "metadata": {
  "kernelspec": {
   "display_name": "Python 3",
   "language": "python",
   "name": "python3"
  },
  "language_info": {
   "codemirror_mode": {
    "name": "ipython",
    "version": 3
   },
   "file_extension": ".py",
   "mimetype": "text/x-python",
   "name": "python",
   "nbconvert_exporter": "python",
   "pygments_lexer": "ipython3",
   "version": "3.7.1"
  }
 },
 "nbformat": 4,
 "nbformat_minor": 2
}
